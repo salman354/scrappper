{
 "cells": [
  {
   "cell_type": "code",
   "execution_count": 1,
   "id": "9c9ae620",
   "metadata": {},
   "outputs": [],
   "source": [
    "import logging\n"
   ]
  },
  {
   "cell_type": "code",
   "execution_count": null,
   "id": "a57da566",
   "metadata": {},
   "outputs": [],
   "source": [
    "open(\"logtest2.txt\",\"w\")"
   ]
  },
  {
   "cell_type": "code",
   "execution_count": 2,
   "id": "a1ff885e",
   "metadata": {},
   "outputs": [],
   "source": [
    "logging.basicConfig(filename=\"logtest2.txt\",level=\"DEBUG\",format='%(asctime)s %(message)s')"
   ]
  },
  {
   "cell_type": "code",
   "execution_count": 3,
   "id": "2d4d07a4",
   "metadata": {},
   "outputs": [],
   "source": [
    "logging.info(\"this is my info logging\")\n",
    "logging.debug(\"this is my degug logging\")\n",
    "logging.error(\"this is my error logging\")"
   ]
  },
  {
   "cell_type": "code",
   "execution_count": null,
   "id": "4af1f85d",
   "metadata": {},
   "outputs": [],
   "source": [
    "logging."
   ]
  },
  {
   "cell_type": "code",
   "execution_count": null,
   "id": "a4619255",
   "metadata": {},
   "outputs": [],
   "source": [
    "logging.shutdown()"
   ]
  },
  {
   "cell_type": "code",
   "execution_count": 12,
   "id": "31bfde26",
   "metadata": {},
   "outputs": [],
   "source": [
    "import os"
   ]
  },
  {
   "cell_type": "code",
   "execution_count": 13,
   "id": "5bd5c888",
   "metadata": {},
   "outputs": [
    {
     "data": {
      "text/plain": [
       "'C:\\\\Users\\\\ESDC\\\\Desktop\\\\INEU'"
      ]
     },
     "execution_count": 13,
     "metadata": {},
     "output_type": "execute_result"
    }
   ],
   "source": [
    "os.getcwd()"
   ]
  },
  {
   "cell_type": "code",
   "execution_count": 14,
   "id": "46d873e2",
   "metadata": {},
   "outputs": [],
   "source": [
    "l=[]"
   ]
  },
  {
   "cell_type": "code",
   "execution_count": 87,
   "id": "16aae610",
   "metadata": {},
   "outputs": [],
   "source": [
    "l=os.listdir()"
   ]
  },
  {
   "cell_type": "code",
   "execution_count": 88,
   "id": "4e5d313b",
   "metadata": {},
   "outputs": [
    {
     "data": {
      "text/plain": [
       "['.ipynb_checkpoints',\n",
       " 'download.png',\n",
       " 'filemanagement.ipynb',\n",
       " 'for.ipynb',\n",
       " 'function.ipynb',\n",
       " 'function2.ipynb',\n",
       " 'generator.ipynb',\n",
       " 'GUI-INTERFACE FOR SEARCH FILES.ipynb',\n",
       " 'if&else.ipynb',\n",
       " 'logging.ipynb',\n",
       " 'logtest.txt',\n",
       " 'logtest2.txt',\n",
       " 'merge',\n",
       " 'merge.txt',\n",
       " 'mergefile.txt',\n",
       " 'myfun.py',\n",
       " 'program.c',\n",
       " 'set.ipynb',\n",
       " 'test.log',\n",
       " 'test.pdf',\n",
       " 'test.text',\n",
       " 'test2.log',\n",
       " 'test2.txt',\n",
       " 'test3.log',\n",
       " 'text1.txt',\n",
       " 'tuple.ipynb',\n",
       " 'txt2.txt',\n",
       " 'txt3.txt',\n",
       " 'txt4.txt',\n",
       " 'Untitled Folder',\n",
       " 'Untitled Folder 1',\n",
       " 'Untitled Folder 1-checkpoint.ipynb',\n",
       " 'Untitled Folder 1.ipynb',\n",
       " 'Untitled.ipynb',\n",
       " 'Untitled1.ipynb',\n",
       " 'Untitled10.ipynb',\n",
       " 'Untitled11.ipynb',\n",
       " 'Untitled12.ipynb',\n",
       " 'Untitled13.ipynb',\n",
       " 'Untitled14.ipynb',\n",
       " 'Untitled15.ipynb',\n",
       " 'Untitled2.ipynb',\n",
       " 'Untitled3.ipynb',\n",
       " 'Untitled4.ipynb',\n",
       " 'Untitled5.ipynb',\n",
       " 'Untitled6.ipynb',\n",
       " 'Untitled7.ipynb',\n",
       " 'Untitled8.ipynb',\n",
       " 'Untitled9.ipynb',\n",
       " '__pycache__']"
      ]
     },
     "execution_count": 88,
     "metadata": {},
     "output_type": "execute_result"
    }
   ],
   "source": [
    "l"
   ]
  },
  {
   "cell_type": "code",
   "execution_count": 16,
   "id": "beda94b2",
   "metadata": {},
   "outputs": [
    {
     "data": {
      "text/plain": [
       "['.ipynb_checkpoints',\n",
       " 'filemanagement.ipynb',\n",
       " 'for.ipynb',\n",
       " 'function.ipynb',\n",
       " 'function2.ipynb',\n",
       " 'generator.ipynb',\n",
       " 'if&else.ipynb',\n",
       " 'logging.ipynb',\n",
       " 'logging2.ipynb',\n",
       " 'logtest.txt',\n",
       " 'logtest2.txt',\n",
       " 'merge',\n",
       " 'merge.txt',\n",
       " 'mergefile.txt',\n",
       " 'myfun.py',\n",
       " 'program.c',\n",
       " 'set.ipynb',\n",
       " 'test.log',\n",
       " 'test.pdf',\n",
       " 'test.text',\n",
       " 'test2.log',\n",
       " 'test2.txt',\n",
       " 'test3.log',\n",
       " 'text1.txt',\n",
       " 'tuple.ipynb',\n",
       " 'txt2.txt',\n",
       " 'txt3.txt',\n",
       " 'txt4.txt',\n",
       " 'Untitled Folder',\n",
       " 'Untitled Folder 1',\n",
       " 'Untitled Folder 1-checkpoint.ipynb',\n",
       " 'Untitled Folder 1.ipynb',\n",
       " 'Untitled.ipynb',\n",
       " 'Untitled1.ipynb',\n",
       " 'Untitled10.ipynb',\n",
       " 'Untitled11.ipynb',\n",
       " 'Untitled12.ipynb',\n",
       " 'Untitled13.ipynb',\n",
       " 'Untitled14.ipynb',\n",
       " 'Untitled2.ipynb',\n",
       " 'Untitled3.ipynb',\n",
       " 'Untitled4.ipynb',\n",
       " 'Untitled5.ipynb',\n",
       " 'Untitled6.ipynb',\n",
       " 'Untitled7.ipynb',\n",
       " 'Untitled8.ipynb',\n",
       " 'Untitled9.ipynb',\n",
       " '__pycache__']"
      ]
     },
     "execution_count": 16,
     "metadata": {},
     "output_type": "execute_result"
    }
   ],
   "source": [
    "os.listdir()"
   ]
  },
  {
   "cell_type": "code",
   "execution_count": 89,
   "id": "9a1006d2",
   "metadata": {},
   "outputs": [],
   "source": [
    "def search_files(lst):\n",
    "    i=0\n",
    "    a=0\n",
    "    while(i!=len(l)):        \n",
    "        if(l[i].endswith(\".ipynb\")):\n",
    "            \n",
    "            print(l[i])\n",
    "            i=i+1\n",
    "            a=a+1\n",
    "            continue\n",
    "        else:\n",
    "        #print(\"not found\")\n",
    "            i=i+1\n",
    "            continue\n",
    "#if(a>1):      \n",
    "   # print(\" \") \n",
    "    if(a<1):\n",
    "        print(\"not found such files in directory \") \n",
    "\n"
   ]
  },
  {
   "cell_type": "code",
   "execution_count": null,
   "id": "0c085acf",
   "metadata": {},
   "outputs": [],
   "source": []
  },
  {
   "cell_type": "code",
   "execution_count": 62,
   "id": "98430965",
   "metadata": {},
   "outputs": [
    {
     "ename": "TypeError",
     "evalue": "'str' object cannot be interpreted as an integer",
     "output_type": "error",
     "traceback": [
      "\u001b[1;31m---------------------------------------------------------------------------\u001b[0m",
      "\u001b[1;31mTypeError\u001b[0m                                 Traceback (most recent call last)",
      "\u001b[1;32m~\\AppData\\Local\\Temp/ipykernel_5756/3857263056.py\u001b[0m in \u001b[0;36m<module>\u001b[1;34m\u001b[0m\n\u001b[1;32m----> 1\u001b[1;33m \u001b[1;32mfor\u001b[0m \u001b[0mi\u001b[0m \u001b[1;32min\u001b[0m \u001b[0mrange\u001b[0m\u001b[1;33m(\u001b[0m\u001b[0md\u001b[0m\u001b[1;33m)\u001b[0m\u001b[1;33m:\u001b[0m\u001b[1;33m\u001b[0m\u001b[1;33m\u001b[0m\u001b[0m\n\u001b[0m\u001b[0;32m      2\u001b[0m     \u001b[0mprint\u001b[0m\u001b[1;33m(\u001b[0m\u001b[0mi\u001b[0m\u001b[1;33m)\u001b[0m\u001b[1;33m\u001b[0m\u001b[1;33m\u001b[0m\u001b[0m\n\u001b[0;32m      3\u001b[0m \u001b[1;33m\u001b[0m\u001b[0m\n",
      "\u001b[1;31mTypeError\u001b[0m: 'str' object cannot be interpreted as an integer"
     ]
    }
   ],
   "source": [
    "for i in range():\n",
    "    print(i)\n",
    "    "
   ]
  },
  {
   "cell_type": "code",
   "execution_count": 76,
   "id": "2175e56c",
   "metadata": {},
   "outputs": [],
   "source": [
    "l2=[2,3,4,5]"
   ]
  },
  {
   "cell_type": "code",
   "execution_count": 184,
   "id": "80fcded3",
   "metadata": {},
   "outputs": [],
   "source": [
    "def getfiles(lst):\n",
    "    for i in range(len(lst)):\n",
    "         if(l[i].endswith(\".txt\")):\n",
    "            print(l[i])\n",
    "            continue\n",
    "    return 0    \n",
    "\n",
    "      \n",
    "        "
   ]
  },
  {
   "cell_type": "code",
   "execution_count": 90,
   "id": "10cad4a2",
   "metadata": {},
   "outputs": [
    {
     "name": "stdout",
     "output_type": "stream",
     "text": [
      "filemanagement.ipynb\n",
      "for.ipynb\n",
      "function.ipynb\n",
      "function2.ipynb\n",
      "generator.ipynb\n",
      "GUI-INTERFACE FOR SEARCH FILES.ipynb\n",
      "if&else.ipynb\n",
      "logging.ipynb\n",
      "set.ipynb\n",
      "tuple.ipynb\n",
      "Untitled Folder 1-checkpoint.ipynb\n",
      "Untitled Folder 1.ipynb\n",
      "Untitled.ipynb\n",
      "Untitled1.ipynb\n",
      "Untitled10.ipynb\n",
      "Untitled11.ipynb\n",
      "Untitled12.ipynb\n",
      "Untitled13.ipynb\n",
      "Untitled14.ipynb\n",
      "Untitled15.ipynb\n",
      "Untitled2.ipynb\n",
      "Untitled3.ipynb\n",
      "Untitled4.ipynb\n",
      "Untitled5.ipynb\n",
      "Untitled6.ipynb\n",
      "Untitled7.ipynb\n",
      "Untitled8.ipynb\n",
      "Untitled9.ipynb\n"
     ]
    }
   ],
   "source": [
    "search_files(l)"
   ]
  },
  {
   "cell_type": "code",
   "execution_count": null,
   "id": "82665137",
   "metadata": {},
   "outputs": [],
   "source": []
  },
  {
   "cell_type": "code",
   "execution_count": 190,
   "id": "5eec4691",
   "metadata": {},
   "outputs": [],
   "source": [
    "def search_txt(lst):\n",
    "    if(getfiles(lst)):\n",
    "        return 1\n",
    "    else:\n",
    "        print(\"not found\")\n",
    "        "
   ]
  },
  {
   "cell_type": "code",
   "execution_count": 191,
   "id": "ba217261",
   "metadata": {},
   "outputs": [
    {
     "name": "stdout",
     "output_type": "stream",
     "text": [
      "logtest.txt\n",
      "logtest2.txt\n",
      "merge.txt\n",
      "mergefile.txt\n",
      "test2.txt\n",
      "text1.txt\n",
      "txt2.txt\n",
      "txt3.txt\n",
      "txt4.txt\n",
      "not found\n"
     ]
    }
   ],
   "source": [
    "search_txt(l)\n",
    "    \n",
    "      \n",
    "            \n"
   ]
  },
  {
   "cell_type": "code",
   "execution_count": 179,
   "id": "c1295c89",
   "metadata": {},
   "outputs": [
    {
     "name": "stdout",
     "output_type": "stream",
     "text": [
      "logtest.txt\n",
      "logtest2.txt\n",
      "merge.txt\n",
      "mergefile.txt\n",
      "test2.txt\n",
      "text1.txt\n",
      "txt2.txt\n",
      "txt3.txt\n",
      "txt4.txt\n",
      "not found\n"
     ]
    }
   ],
   "source": [
    "search_txt()"
   ]
  },
  {
   "cell_type": "code",
   "execution_count": 122,
   "id": "644ef3bf",
   "metadata": {},
   "outputs": [],
   "source": [
    "def search_txt():\n",
    "    for i in range(len(l)):         \n",
    "            if(l[i].endswith(\".ddjd\")):     \n",
    "                print(l[i])\n",
    "            print(\"no such files are there in directory\")"
   ]
  },
  {
   "cell_type": "code",
   "execution_count": 109,
   "id": "39a527a5",
   "metadata": {},
   "outputs": [
    {
     "ename": "SyntaxError",
     "evalue": "invalid syntax (Temp/ipykernel_1372/594468426.py, line 1)",
     "output_type": "error",
     "traceback": [
      "\u001b[1;36m  File \u001b[1;32m\"C:\\Users\\ESDC\\AppData\\Local\\Temp/ipykernel_1372/594468426.py\"\u001b[1;36m, line \u001b[1;32m1\u001b[0m\n\u001b[1;33m    text=\u001b[0m\n\u001b[1;37m         ^\u001b[0m\n\u001b[1;31mSyntaxError\u001b[0m\u001b[1;31m:\u001b[0m invalid syntax\n"
     ]
    }
   ],
   "source": [
    "text=\n",
    "x=text.endswith(\"khan.\")\n",
    "print(x)"
   ]
  },
  {
   "cell_type": "code",
   "execution_count": 25,
   "id": "85779fcb",
   "metadata": {},
   "outputs": [
    {
     "name": "stdout",
     "output_type": "stream",
     "text": [
      "logtest.txt\n",
      "logtest2.txt\n",
      "merge.txt\n",
      "mergefile.txt\n",
      "test2.txt\n",
      "text1.txt\n",
      "txt2.txt\n",
      "txt3.txt\n",
      "txt4.txt\n"
     ]
    }
   ],
   "source": [
    "search_txt()\n"
   ]
  },
  {
   "cell_type": "code",
   "execution_count": 85,
   "id": "b70ce86b",
   "metadata": {},
   "outputs": [
    {
     "name": "stdout",
     "output_type": "stream",
     "text": [
      "logtest.txt\n",
      "logtest2.txt\n",
      "merge.txt\n",
      "mergefile.txt\n",
      "test2.txt\n",
      "text1.txt\n",
      "txt2.txt\n",
      "txt3.txt\n",
      "txt4.txt\n",
      "logtest.txt\n",
      "logtest2.txt\n",
      "merge.txt\n",
      "mergefile.txt\n",
      "test2.txt\n",
      "text1.txt\n",
      "txt2.txt\n",
      "txt3.txt\n",
      "txt4.txt\n",
      "logtest.txt\n",
      "logtest2.txt\n",
      "merge.txt\n",
      "mergefile.txt\n",
      "test2.txt\n",
      "text1.txt\n",
      "txt2.txt\n",
      "txt3.txt\n",
      "txt4.txt\n",
      "logtest.txt\n",
      "logtest2.txt\n",
      "merge.txt\n",
      "mergefile.txt\n",
      "test2.txt\n",
      "text1.txt\n",
      "txt2.txt\n",
      "txt3.txt\n",
      "txt4.txt\n",
      "logtest.txt\n",
      "logtest2.txt\n",
      "merge.txt\n",
      "mergefile.txt\n",
      "test2.txt\n",
      "text1.txt\n",
      "txt2.txt\n",
      "txt3.txt\n",
      "txt4.txt\n"
     ]
    }
   ],
   "source": [
    "from tkinter import* \n",
    "\n",
    "root=Tk()\n",
    "root.geometry(\"800x500\")\n",
    "root.minsize(300,200)\n",
    "root.maxsize(800,600)    \n",
    "f1=Frame(root,bg=\"GREEN\")\n",
    "f1.pack(side=TOP,anchor=\"nw\",fill=\"x\")\n",
    "b1=Button(f1,text=\"GET DIRECTORY FILES\",command=search_txt)\n",
    "b1.pack(side=LEFT)\n",
    "\n",
    "root.mainloop()"
   ]
  },
  {
   "cell_type": "code",
   "execution_count": 94,
   "id": "4d79c703",
   "metadata": {},
   "outputs": [
    {
     "name": "stdout",
     "output_type": "stream",
     "text": [
      "testing done\n",
      "filemanagement.ipynb\n",
      "for.ipynb\n",
      "function.ipynb\n",
      "function2.ipynb\n",
      "generator.ipynb\n",
      "GUI-INTERFACE FOR SEARCH FILES.ipynb\n",
      "if&else.ipynb\n",
      "logging.ipynb\n",
      "set.ipynb\n",
      "tuple.ipynb\n",
      "Untitled Folder 1-checkpoint.ipynb\n",
      "Untitled Folder 1.ipynb\n",
      "Untitled.ipynb\n",
      "Untitled1.ipynb\n",
      "Untitled10.ipynb\n",
      "Untitled11.ipynb\n",
      "Untitled12.ipynb\n",
      "Untitled13.ipynb\n",
      "Untitled14.ipynb\n",
      "Untitled15.ipynb\n",
      "Untitled2.ipynb\n",
      "Untitled3.ipynb\n",
      "Untitled4.ipynb\n",
      "Untitled5.ipynb\n",
      "Untitled6.ipynb\n",
      "Untitled7.ipynb\n",
      "Untitled8.ipynb\n",
      "Untitled9.ipynb\n"
     ]
    }
   ],
   "source": [
    "from tkinter import *\n",
    "import os\n",
    "    \n",
    "\n",
    "\n",
    "def test():\n",
    "    print(\"testing done\")\n",
    "    root1=Tk()\n",
    "    root1.geometry(\"400x300\")\n",
    "    root1.minsize(300, 200)\n",
    "    root1.maxsize(800, 600)\n",
    "    root1.title(\"CONFIGURATION\")\n",
    "    fr1=Frame(root1,bg=\"GREEN\",borderwidth=6)\n",
    "    fr1.pack(side=TOP,anchor=\"nw\",fill=\"x\",)\n",
    "    #fr2 = Frame(root1, bg=\"RED\", borderwidth=60)\n",
    "   #fr2.pack(side=RIGHT, anchor=\"nw\", fill=\"Y\", )\n",
    "    \n",
    "    br1 = Button(fr1, text=\"OVERCURRENT\")\n",
    "    br1.pack(side=LEFT)\n",
    "\n",
    "    br2 = Button(fr1, text=\"EARTH FAULT\")\n",
    "    br2.pack(side=LEFT)\n",
    "    \n",
    "    br3 = Button(fr1, text=\"EXISTING FILES\",command=search_files(l))\n",
    "    br3.pack(side=LEFT)\n",
    "\n",
    "    root1.mainloop()\n",
    "    \n",
    "    \n",
    "root=Tk()\n",
    "root.title(\"NUMERICAL RELAY\")\n",
    "\n",
    "root.geometry(\"400x300\")\n",
    "root.minsize(300,200)\n",
    "root.maxsize(800,600)\n",
    "\n",
    "\"\"\"\"def fr_n():\n",
    "    f4=Frame(root,bg=\"GREEN\",borderwidth=60)\n",
    "    f4.pack(side=RIGHT,fill=\"y\")\"\"\"\n",
    "    \n",
    "\n",
    "f1=Frame(root,bg=\"GREEN\",borderwidth=60)\n",
    "f1.pack(side=RIGHT,fill=\"y\")\n",
    "b1=Button(f1,text=\"CONFIGURATION\",command=test)\n",
    "b1.pack(side=LEFT,padx=\"12\")\n",
    "\n",
    "b2=Button(f1,text=\"VIEW MODE\")\n",
    "b2.pack(side=LEFT,padx=\"12\")\n",
    "\n",
    "relay=Label(text='MASHEL ELECTRIC NUMERICAL RELAY')\n",
    "relay.pack(padx=122,side=TOP)\n",
    "photo=PhotoImage(file=\"download.png\")\n",
    "pic_label=Label(image=photo)\n",
    "pic_label.pack()\n",
    "root.mainloop()"
   ]
  },
  {
   "cell_type": "code",
   "execution_count": 71,
   "id": "4205c9f8",
   "metadata": {},
   "outputs": [
    {
     "name": "stdout",
     "output_type": "stream",
     "text": [
      "1\n",
      "1\n"
     ]
    }
   ],
   "source": [
    "l5=[1,2,4,4,2,4,5,6]\n",
    "a=int(input())\n",
    "for i in l5:\n",
    "    if i==a:\n",
    "        print(i)\n",
    "    elif(a!=len(l5)):\n",
    "        continue\n",
    "    else:\n",
    "        print(\"not found\")\n",
    "    \n"
   ]
  },
  {
   "cell_type": "code",
   "execution_count": null,
   "id": "e37cd8ce",
   "metadata": {},
   "outputs": [],
   "source": []
  },
  {
   "cell_type": "code",
   "execution_count": null,
   "id": "bf36f599",
   "metadata": {},
   "outputs": [],
   "source": []
  }
 ],
 "metadata": {
  "kernelspec": {
   "display_name": "Python 3 (ipykernel)",
   "language": "python",
   "name": "python3"
  },
  "language_info": {
   "codemirror_mode": {
    "name": "ipython",
    "version": 3
   },
   "file_extension": ".py",
   "mimetype": "text/x-python",
   "name": "python",
   "nbconvert_exporter": "python",
   "pygments_lexer": "ipython3",
   "version": "3.9.7"
  }
 },
 "nbformat": 4,
 "nbformat_minor": 5
}
